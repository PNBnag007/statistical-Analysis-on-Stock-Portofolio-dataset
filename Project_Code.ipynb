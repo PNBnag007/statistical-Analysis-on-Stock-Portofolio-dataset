{
  "nbformat": 4,
  "nbformat_minor": 0,
  "metadata": {
    "colab": {
      "name": "SDA_project.ipynb",
      "provenance": [],
      "collapsed_sections": []
    },
    "kernelspec": {
      "name": "python3",
      "display_name": "Python 3"
    }
  },
  "cells": [
    {
      "cell_type": "markdown",
      "metadata": {
        "id": "r-MTp1LogjF7"
      },
      "source": [
        "**Group Members**\\\n",
        "        **Cherukuri Nikhilesh - S20180010040**\\\n",
        "        **Kore Nithish Kumar - S20180010086**\\\n",
        "        **Pulla Nagendra Babu - S20180010138**\\\n",
        "        **Rishab Tripati - S20180010147**"
      ]
    },
    {
      "cell_type": "code",
      "metadata": {
        "id": "errUzHSz53Nr"
      },
      "source": [
        "import pandas as pd\n",
        "import statistics\n",
        "import numpy as np \n",
        "import matplotlib.pyplot as plt\n",
        "from pandas.plotting import scatter_matrix\n",
        "from sklearn.model_selection import KFold ,RepeatedKFold,train_test_split\n",
        "import statsmodels.api as sm\n",
        "import statsmodels.formula.api as smf\n",
        "from statsmodels.formula.api import ols\n",
        "import seaborn as sns\n",
        "from scipy.stats import shapiro,pearsonr\n",
        "from scipy import stats\n",
        "import scipy as sp\n",
        "from sklearn.metrics import r2_score\n",
        "from statsmodels.graphics.gofplots import qqplot\n",
        "from statsmodels.stats.stattools import durbin_watson\n",
        "from sklearn import preprocessing,metrics,datasets, linear_model,svm\n",
        "from sklearn.linear_model import LinearRegression\n",
        "from sklearn.model_selection import KFold\n",
        "from sklearn import linear_model,tree"
      ],
      "execution_count": null,
      "outputs": []
    },
    {
      "cell_type": "code",
      "metadata": {
        "id": "9v6c3Vfaxuy0"
      },
      "source": [
        "!pip install factor_analyzer==0.2.3"
      ],
      "execution_count": null,
      "outputs": []
    },
    {
      "cell_type": "code",
      "metadata": {
        "id": "TfGWj-0kKWVw"
      },
      "source": [
        "sheets=pd.read_excel('/content/sample_data/stock portfolio performance data set.xlsx',sheet_name=['all period'],skiprows=[0], usecols = [1,2,3,4,5,6,13,14,15,16,17,18])\n",
        "df=pd.concat(sheets[frame] for frame in sheets.keys())\n",
        "df.keys()\n",
        "df.describe()"
      ],
      "execution_count": null,
      "outputs": []
    },
    {
      "cell_type": "code",
      "metadata": {
        "id": "joVUHp_RKWXG"
      },
      "source": [
        "df.isnull().values.any()"
      ],
      "execution_count": null,
      "outputs": []
    },
    {
      "cell_type": "code",
      "metadata": {
        "id": "9XwA6oLZMRVC"
      },
      "source": [
        "df.head()"
      ],
      "execution_count": null,
      "outputs": []
    },
    {
      "cell_type": "code",
      "metadata": {
        "id": "hmO-uQutKWf_"
      },
      "source": [
        "X= df.drop(['Annual Return.1', 'Excess Return.1','Systematic Risk.1', 'Total Risk.1', 'Abs. Win Rate.1','Rel. Win Rate.1'],axis=1)\n",
        "Y = df.drop([\" Large B/P \",\" Large ROE \",\" Large S/P \",\" Large Return Rate in the last quarter \",\" Large Market Value \",\" Small systematic Risk\"],axis=1)\n",
        "for each in X.keys():\n",
        "    qqplot(X[each],line='s')\n",
        "    plt.show()"
      ],
      "execution_count": null,
      "outputs": []
    },
    {
      "cell_type": "code",
      "metadata": {
        "id": "YZKItc6CKWpy"
      },
      "source": [
        "boxplot = X.boxplot(grid=False,rot=45, fontsize=9)"
      ],
      "execution_count": null,
      "outputs": []
    },
    {
      "cell_type": "code",
      "metadata": {
        "id": "vWpgyEU2KWyV"
      },
      "source": [
        "df.shape"
      ],
      "execution_count": null,
      "outputs": []
    },
    {
      "cell_type": "code",
      "metadata": {
        "id": "VPolFct3KWm2"
      },
      "source": [
        "z = np.abs(stats.zscore(df))\n",
        "df_o = df[(z < 3).all(axis=1)]\n",
        "print(df_o.shape)"
      ],
      "execution_count": null,
      "outputs": []
    },
    {
      "cell_type": "code",
      "metadata": {
        "id": "l8Erf98_KWcB"
      },
      "source": [
        "X= df_o.drop(['Annual Return.1', 'Excess   Return.1','Systematic Risk.1', 'Total Risk.1', 'Abs. Win Rate.1','Rel. Win Rate.1'],axis=1)\n",
        "Y = df_o.drop([\" Large B/P \",\" Large ROE \",\" Large S/P \",\" Large Return Rate in the last quarter \",\" Large Market Value \",\" Small systematic Risk\"],axis=1)\n",
        "boxplot = X.boxplot(grid=False,rot=45, fontsize=9)"
      ],
      "execution_count": null,
      "outputs": []
    },
    {
      "cell_type": "code",
      "metadata": {
        "id": "wKftzi4iKWal"
      },
      "source": [
        "correlation=df_o.corr()\n",
        "print(correlation)"
      ],
      "execution_count": null,
      "outputs": []
    },
    {
      "cell_type": "code",
      "metadata": {
        "id": "p4DqNTZXKWJr"
      },
      "source": [
        "plt.figure(figsize=(10,8))\n",
        "sns.heatmap(correlation, annot=True, cmap='coolwarm')"
      ],
      "execution_count": null,
      "outputs": []
    },
    {
      "cell_type": "code",
      "metadata": {
        "id": "0yu1xk_kmhAC"
      },
      "source": [
        "from sklearn.decomposition import PCA\n",
        "pca = PCA(whiten=True)\n",
        "pca.fit(X)\n",
        "variance = pd.DataFrame(pca.explained_variance_ratio_)\n",
        "print(variance)\n",
        "cumulative=np.cumsum(pca.explained_variance_ratio_)\n",
        "print(cumulative)"
      ],
      "execution_count": null,
      "outputs": []
    },
    {
      "cell_type": "code",
      "metadata": {
        "id": "0EcZ0Npwp2FY"
      },
      "source": [
        "df3 = pd.DataFrame({'variance_explained':cumulative,\n",
        "             'PC':['PC1','PC2','PC3','PC4','PC5','PC6']})\n",
        "sns.barplot(x='PC',y=\"variance_explained\", data=df3, color=\"c\");"
      ],
      "execution_count": null,
      "outputs": []
    },
    {
      "cell_type": "code",
      "metadata": {
        "id": "dXEE0EgcCQaO"
      },
      "source": [
        "df2 = pd.DataFrame({'var':pca.explained_variance_ratio_,\n",
        "             'PC':['PC1','PC2','PC3','PC4','PC5','PC6']})\n",
        "sns.barplot(x='PC',y=\"var\", data=df2, color=\"c\");"
      ],
      "execution_count": null,
      "outputs": []
    },
    {
      "cell_type": "code",
      "metadata": {
        "id": "Z-mjrW9msda7"
      },
      "source": [
        "components=pd.DataFrame(pca.components_,columns=X.columns,index = ['PC-1','PC-2','PC-3','PC-4','PC-5','PC-6'])\n",
        "components.head(6)"
      ],
      "execution_count": null,
      "outputs": []
    },
    {
      "cell_type": "code",
      "metadata": {
        "id": "nvIecw8RTfjO"
      },
      "source": [
        "x_train, x_test, y_train, y_test = train_test_split(X, Y,test_size=0.2,random_state=1)"
      ],
      "execution_count": null,
      "outputs": []
    },
    {
      "cell_type": "code",
      "metadata": {
        "id": "5eQlEYENUKlL"
      },
      "source": [
        "targets=pd.DataFrame(columns=['Annual Return.1', 'Excess Return.1','Systematic Risk.1', 'Total Risk.1', 'Abs. Win Rate.1','Rel. Win Rate.1'],index=y_test.index.values) \n",
        "for y in targets.keys():\n",
        "    reg = linear_model.LinearRegression() \n",
        "    reg.fit(x_train, y_train[y])\n",
        "    print(\"\\n\")\n",
        "    print(\"model for\",y,'evaluation parameter')\n",
        "    print(\"The linear model is: Y = {:.5} + {:.5}*large b/p + {:.5}*large ROE + {:.5}*large s/p+ {:.5}*large return rates+ {:.5}*large market sales+ {:.5}*small system risk\".format(reg.intercept_, reg.coef_[0], reg.coef_[1], reg.coef_[2],reg.coef_[3],reg.coef_[4],reg.coef_[5]))\n",
        "    print('Variance score: {}'.format(reg.score(x_test, y_test[y]))) \n",
        "    y_pred = reg.predict(x_test)\n",
        "    targets[y]= y_pred          \n",
        "    fig, ax = plt.subplots(1,1)\n",
        "    sns.regplot(x=y_pred, y=y_test[y], lowess=True, ax=ax, line_kws={'color': 'red'})\n",
        "    ax.set_title('Observed vs. Predicted Values', fontsize=16)\n",
        "    ax.set(xlabel='Predicted', ylabel='Observed')\n"
      ],
      "execution_count": null,
      "outputs": []
    },
    {
      "cell_type": "code",
      "metadata": {
        "id": "9HxOZ3G9UKnU"
      },
      "source": [
        "from yellowbrick.regressor import ResidualsPlot"
      ],
      "execution_count": null,
      "outputs": []
    },
    {
      "cell_type": "code",
      "metadata": {
        "id": "S2woKpmRUKhy"
      },
      "source": [
        "for y in targets.keys():\n",
        "    model_ols = sm.OLS(y_train[y],x_train).fit()\n",
        "    print(model_ols.summary())"
      ],
      "execution_count": null,
      "outputs": []
    },
    {
      "cell_type": "code",
      "metadata": {
        "id": "64xf-nKqUKgX"
      },
      "source": [
        "for y in targets.keys():\n",
        "    for x in X.keys():\n",
        "        colors = (0,0,0)\n",
        "        area = np.pi*3\n",
        "        df_o.plot.scatter(x=x, y=y)"
      ],
      "execution_count": null,
      "outputs": []
    },
    {
      "cell_type": "code",
      "metadata": {
        "id": "Yj1xZXIAwIbr"
      },
      "source": [
        "error_list=[]\n",
        "for y in targets.keys():\n",
        "    error = y_test[y] - targets[y]\n",
        "    error_info = pd.DataFrame({'y_true': y_test[y], 'y_pred': targets[y], 'error': error}, columns=['y_true', 'y_pred', 'error'])\n",
        "    error_list.append(error_info)\n",
        "    plt.figure(figsize=(8,5))\n",
        "    g = sns.scatterplot(x=\"y_pred\", y=\"error\", data=error_info, color='blue')\n",
        "    g.set_title(f'Check Homoskedasticity {y}', fontsize=15)\n",
        "    g.set_xlabel(\"predicted values\", fontsize=13)\n",
        "    g.set_ylabel(\"Residual\", fontsize=13)"
      ],
      "execution_count": null,
      "outputs": []
    },
    {
      "cell_type": "code",
      "metadata": {
        "id": "_8zj_ompwIrx"
      },
      "source": [
        "for error in error_list: \n",
        "      fig, ax = plt.subplots(figsize=(8,5))\n",
        "      ax = error.error.plot()\n",
        "      dw=durbin_watson(error.error,axis=0)\n",
        "      print(dw)\n",
        "      ax.set_title('Uncorrelated errors', fontsize=15)\n",
        "      ax.set_xlabel(\"Data\", fontsize=13)\n",
        "      ax.set_ylabel(\"Residual\", fontsize=13)"
      ],
      "execution_count": null,
      "outputs": []
    },
    {
      "cell_type": "code",
      "metadata": {
        "id": "w7_H_QOpwIPi"
      },
      "source": [
        "for error in error_list:\n",
        "    fig, ax = plt.subplots(figsize=(6,4))\n",
        "    _ = sp.stats.probplot(error.error, plot=ax, fit=True)\n",
        "    ax.set_title('Probability plot', fontsize=15)\n",
        "    ax.set_xlabel(\"Theoritical Qunatiles\", fontsize=13)\n",
        "    ax.set_ylabel(\"Ordered Values\", fontsize=13)\n",
        "    ax = sm.qqplot(error.error, line='45')\n",
        "    plt.show()"
      ],
      "execution_count": null,
      "outputs": []
    },
    {
      "cell_type": "code",
      "metadata": {
        "id": "ms-7ZLEq-iP5"
      },
      "source": [
        "def coefficient_of_determination(ys_orig,ys_line):\n",
        "    y_mean_line = [statistics.mean(ys_orig) for y in ys_orig]\n",
        "    squared_error_regr = mean_squared_error(ys_orig, ys_line)\n",
        "    squared_error_y_mean = mean_squared_error(ys_orig, y_mean_line)\n",
        "    return 1 - (squared_error_regr/squared_error_y_mean)\n",
        "def mean_absolute_percentage_error(y_true, y_pred): \n",
        "    y_true, y_pred = np.array(y_true), np.array(y_pred)\n",
        "    return np.mean(np.abs((y_true - y_pred) / y_true)) * 100\n",
        "def mean_squared_error(y_true,y_pred):\n",
        "    return  metrics.mean_squared_error(y_true, y_pred)\n",
        "def goodness(y_true, y_pred):\n",
        "    mape = mean_absolute_percentage_error(y_true, y_pred)\n",
        "    mse = mean_squared_error(y_true, y_pred)"
      ],
      "execution_count": null,
      "outputs": []
    },
    {
      "cell_type": "code",
      "metadata": {
        "id": "jTlvsfrE6fgk"
      },
      "source": [
        "for y in targets.keys():\n",
        "    r_squared = coefficient_of_determination(y_test[y],targets[y])\n",
        "    print(r_squared)"
      ],
      "execution_count": null,
      "outputs": []
    },
    {
      "cell_type": "code",
      "metadata": {
        "id": "8fH1DbYx-OZ6"
      },
      "source": [
        "from factor_analyzer.factor_analyzer import calculate_bartlett_sphericity\n",
        "chi_square_value,p_value=calculate_bartlett_sphericity(X)\n",
        "chi_square_value, p_value"
      ],
      "execution_count": null,
      "outputs": []
    },
    {
      "cell_type": "code",
      "metadata": {
        "id": "ZQ94cl5oCdli"
      },
      "source": [
        "from factor_analyzer import FactorAnalyzer"
      ],
      "execution_count": null,
      "outputs": []
    },
    {
      "cell_type": "code",
      "metadata": {
        "id": "A6KxyXFrCJC4"
      },
      "source": [
        "# Create factor analysis object and perform factor analysis\n",
        "fa = FactorAnalyzer()\n",
        "fa.analyze(X,6, rotation=None)\n",
        "# Check Eigenvalues\n",
        "ev, v = fa.get_eigenvalues()\n",
        "ev "
      ],
      "execution_count": null,
      "outputs": []
    },
    {
      "cell_type": "code",
      "metadata": {
        "id": "-kh2YAwpCq-N"
      },
      "source": [
        "# Create scree plot using matplotlib\n",
        "plt.scatter(range(1,X.shape[1]+1),ev)\n",
        "plt.plot(range(1,X.shape[1]+1),ev)\n",
        "plt.title('Scree Plot')\n",
        "plt.xlabel('Factors')\n",
        "plt.ylabel('Eigenvalue')\n",
        "plt.grid()\n",
        "plt.show()"
      ],
      "execution_count": null,
      "outputs": []
    },
    {
      "cell_type": "code",
      "metadata": {
        "id": "3leOWW7ZCKNJ"
      },
      "source": [
        "fa.loadings"
      ],
      "execution_count": null,
      "outputs": []
    },
    {
      "cell_type": "code",
      "metadata": {
        "id": "Ff23rsC-CkSw"
      },
      "source": [
        "# Get variance of each factors\n",
        "fa.get_factor_variance()"
      ],
      "execution_count": null,
      "outputs": []
    }
  ]
}